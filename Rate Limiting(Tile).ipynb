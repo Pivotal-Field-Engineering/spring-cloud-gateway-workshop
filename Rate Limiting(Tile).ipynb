{
 "cells": [
  {
   "cell_type": "markdown",
   "metadata": {},
   "source": [
    "### Let's deploy an application that explores rate limiting"
   ]
  },
  {
   "cell_type": "code",
   "execution_count": 19,
   "metadata": {},
   "outputs": [],
   "source": [
    "# get to the right directory\n",
    "cd ~/projects/spring-cloud-gateway-workshop"
   ]
  },
  {
   "cell_type": "code",
   "execution_count": null,
   "metadata": {},
   "outputs": [],
   "source": [
    "#check what services are setup\n",
    "cf services"
   ]
  },
  {
   "cell_type": "code",
   "execution_count": null,
   "metadata": {},
   "outputs": [],
   "source": [
    "#check the market place to see plan options are available for Spring Cloud Gateway\n",
    "cf marketplace"
   ]
  },
  {
   "cell_type": "code",
   "execution_count": null,
   "metadata": {},
   "outputs": [],
   "source": [
    "#see which apps are currently deployed\n",
    "cf apps"
   ]
  },
  {
   "cell_type": "code",
   "execution_count": 16,
   "metadata": {},
   "outputs": [
    {
     "name": "stdout",
     "output_type": "stream",
     "text": [
      "Creating service instance \u001b[36;1mratelimit-gateway\u001b[0m in org \u001b[36;1mscg-workshop\u001b[0m / space \u001b[36;1mdemo\u001b[0m as \u001b[36;1mbrian\u001b[0m...\n",
      "\u001b[32;1mOK\u001b[0m\n",
      "\n",
      "Create in progress. Use 'cf services' or 'cf service \u001b[36;1mratelimit-gateway\u001b[0m' to check operation status.\n"
     ]
    }
   ],
   "source": [
    "#create a new service instance of the gateway\n",
    "cf create-service p.gateway standard ratelimit-gateway -c '{\"host\": \"ratelimit-gateway\"}'"
   ]
  },
  {
   "cell_type": "code",
   "execution_count": 17,
   "metadata": {},
   "outputs": [
    {
     "name": "stdout",
     "output_type": "stream",
     "text": [
      "Showing info of service \u001b[36;1mratelimit-gateway\u001b[0m in org \u001b[36;1mscg-workshop\u001b[0m / space \u001b[36;1mdemo\u001b[0m as \u001b[36;1mbrian\u001b[0m...\n",
      "\n",
      "name:             ratelimit-gateway\n",
      "service:          p.gateway\n",
      "tags:             \n",
      "plan:             standard\n",
      "description:      Spring Cloud Gateway for VMware Tanzu\n",
      "documentation:    \n",
      "dashboard:        https://ratelimit-gateway.cfapps.pcf.cloud/scg-dashboard\n",
      "service broker:   scg-service-broker\n",
      "\n",
      "Showing status of last operation from service ratelimit-gateway...\n",
      "\n",
      "status:    create in progress\n",
      "message:   create service instance started\n",
      "started:   2020-08-07T03:17:54Z\n",
      "updated:   2020-08-07T03:17:59Z\n",
      "\n",
      "There are no bound apps for this service.\n",
      "\n",
      "Upgrades are not supported by this broker.\n"
     ]
    }
   ],
   "source": [
    "#check the create status\n",
    "cf service ratelimit-gateway"
   ]
  },
  {
   "cell_type": "code",
   "execution_count": 20,
   "metadata": {},
   "outputs": [],
   "source": [
    "#push our rate limiting app\n",
    "cd ratelimiting\n",
    "#cf push"
   ]
  },
  {
   "cell_type": "code",
   "execution_count": 21,
   "metadata": {},
   "outputs": [
    {
     "name": "stdout",
     "output_type": "stream",
     "text": [
      "Binding service \u001b[36;1mratelimit-gateway\u001b[0m to app \u001b[36;1mratelimiting\u001b[0m in org \u001b[36;1mscg-workshop\u001b[0m / space \u001b[36;1mdemo\u001b[0m as \u001b[36;1mbrian\u001b[0m...\n",
      "\u001b[32;1mOK\u001b[0m\n",
      "\n",
      "TIP: Use 'cf restage ratelimiting' to ensure your env variable changes take effect\n"
     ]
    }
   ],
   "source": [
    "#bind our app to the rate limiting service\n",
    "cf bind-service ratelimiting ratelimit-gateway -c ./scg-config.json\n"
   ]
  },
  {
   "cell_type": "code",
   "execution_count": 22,
   "metadata": {},
   "outputs": [
    {
     "name": "stdout",
     "output_type": "stream",
     "text": [
      "200\\n\n",
      "200\\n\n",
      "200\\n\n",
      "200\\n\n",
      "200\\n\n",
      "200\\n\n",
      "200\\n\n",
      "200\\n\n",
      "200\\n\n",
      "200\\n\n",
      "200\\n\n",
      "200\\n\n",
      "200\\n\n",
      "200\\n\n",
      "200\\n\n",
      "200\\n\n",
      "200\\n\n",
      "200\\n\n",
      "200\\n\n",
      "200\\n\n"
     ]
    }
   ],
   "source": [
    "#test out our no limit\n",
    "# https://ratelimit-gateway.cfapps.pcf.cloud/ratelimiting/nolimit\n",
    "for i in {1..20}; do sleep .1; curl -o /dev/null -L -s -w \"%{http_code}\" https://ratelimit-gateway.cfapps.pcf.cloud/ratelimiting/nolimit ; echo \"\\n\" ; done\n"
   ]
  },
  {
   "cell_type": "code",
   "execution_count": null,
   "metadata": {},
   "outputs": [],
   "source": [
    "# test out 1 per second by calling 4 times per second\n",
    "# https://ratelimit-gateway.cfapps.pcf.cloud/ratelimiting/1persec\n",
    "# should get a successful response 1 in 4 times, may come across as 1 in 3 due to timing\n",
    "for i in {1..20}; do sleep .25; curl -o /dev/null -L -s -w \"%{http_code}\" https://ratelimit-gateway.cfapps.pcf.cloud/ratelimiting/1persec ; echo '\\n';done\n"
   ]
  },
  {
   "cell_type": "code",
   "execution_count": null,
   "metadata": {},
   "outputs": [],
   "source": [
    "#test out 1 per second by calling 1 time per second\n",
    "# https://ratelimit-gateway.cfapps.pcf.cloud/ratelimiting/1persec\n",
    "# should be all 200s\n",
    "for i in {1..10}; do sleep 1; curl -o /dev/null -L -s -w \"%{http_code}\" https://ratelimit-gateway.cfapps.pcf.cloud/ratelimiting/1persec ; echo '\\n';done\n"
   ]
  },
  {
   "cell_type": "code",
   "execution_count": null,
   "metadata": {},
   "outputs": [],
   "source": [
    "#test out 10 per minute by calling 1 time per second\n",
    "# https://ratelimit-gateway.cfapps.pcf.cloud/ratelimiting/10permin\n",
    "for i in {1..20}; do sleep .1; curl -o /dev/null -L -s -w \"%{http_code}\" https://ratelimit-gateway.cfapps.pcf.cloud/ratelimiting/10permin ; echo \"\\n\"; done\n"
   ]
  }
 ],
 "metadata": {
  "kernelspec": {
   "display_name": "Bash",
   "language": "bash",
   "name": "bash"
  },
  "language_info": {
   "codemirror_mode": "shell",
   "file_extension": ".sh",
   "mimetype": "text/x-sh",
   "name": "bash"
  }
 },
 "nbformat": 4,
 "nbformat_minor": 4
}

{
 "cells": [
  {
   "cell_type": "markdown",
   "metadata": {},
   "source": [
    "### Let's deploy an application that explores rate limiting"
   ]
  },
  {
   "cell_type": "code",
   "execution_count": null,
   "metadata": {},
   "outputs": [],
   "source": [
    "#check what services are setup\n",
    "cf services"
   ]
  },
  {
   "cell_type": "code",
   "execution_count": null,
   "metadata": {},
   "outputs": [],
   "source": [
    "#check the market place to see plan options are available for Spring Cloud Gateway\n",
    "cf marketplace"
   ]
  },
  {
   "cell_type": "code",
   "execution_count": null,
   "metadata": {},
   "outputs": [],
   "source": [
    "#see which apps are currently deployed\n",
    "cf apps"
   ]
  },
  {
   "cell_type": "code",
   "execution_count": 3,
   "metadata": {},
   "outputs": [
    {
     "name": "stdout",
     "output_type": "stream",
     "text": [
      "Incorrect Usage: Invalid configuration provided for -c flag. Please provide a valid JSON object or path to a file containing a valid JSON object.\n",
      "\n",
      "NAME:\n",
      "   create-service - Create a service instance\n",
      "\n",
      "USAGE:\n",
      "   cf create-service SERVICE PLAN SERVICE_INSTANCE [-b BROKER] [-c PARAMETERS_AS_JSON] [-t TAGS]\n",
      "\n",
      "   Optionally provide service-specific configuration parameters in a valid JSON object in-line:\n",
      "\n",
      "   cf create-service SERVICE PLAN SERVICE_INSTANCE -c '{\"name\":\"value\",\"name\":\"value\"}'\n",
      "\n",
      "   Optionally provide a file containing service-specific configuration parameters in a valid JSON object.\n",
      "   The path to the parameters file can be an absolute or relative path to a file:\n",
      "\n",
      "   cf create-service SERVICE PLAN SERVICE_INSTANCE -c PATH_TO_FILE\n",
      "\n",
      "   Example of valid JSON object:\n",
      "   {\n",
      "      \"cluster_nodes\": {\n",
      "         \"count\": 5,\n",
      "         \"memory_mb\": 1024\n",
      "      }\n",
      "   }\n",
      "\n",
      "TIP:\n",
      "   Use 'cf create-user-provided-service' to make user-provided services available to CF apps\n",
      "\n",
      "EXAMPLES:\n",
      "   Linux/Mac:\n",
      "      cf create-service db-service silver mydb -c '{\"ram_gb\":4}'\n",
      "\n",
      "   Windows Command Line:\n",
      "      cf create-service db-service silver mydb -c \"{\\\"ram_gb\\\":4}\"\n",
      "\n",
      "   Windows PowerShell:\n",
      "      cf create-service db-service silver mydb -c '{\\\"ram_gb\\\":4}'\n",
      "\n",
      "   cf create-service db-service silver mydb -c ~/workspace/tmp/instance_config.json\n",
      "\n",
      "   cf create-service db-service silver mydb -t \"list, of, tags\"\n",
      "\n",
      "ALIAS:\n",
      "   cs\n",
      "\n",
      "OPTIONS:\n",
      "   -b      Create a service instance from a particular broker. Required when service name is ambiguous\n",
      "   -c      Valid JSON object containing service-specific configuration parameters, provided either in-line or in a file. For a list of supported configuration parameters, see documentation for the particular service offering.\n",
      "   -t      User provided tags\n",
      "\n",
      "SEE ALSO:\n",
      "   bind-service, create-user-provided-service, marketplace, services\n",
      "Getting apps in org \u001b[36;1mscg-workshop\u001b[0m / space \u001b[36;1mdemo\u001b[0m as \u001b[36;1mbrian\u001b[0m...\n",
      "\u001b[32;1mOK\u001b[0m\n",
      "\n",
      "\u001b[38;1mname\u001b[0m                     \u001b[38;1mrequested state\u001b[0m   \u001b[38;1minstances\u001b[0m   \u001b[38;1mmemory\u001b[0m   \u001b[38;1mdisk\u001b[0m   \u001b[38;1murls\u001b[0m\n",
      "\u001b[36;1maccounts\u001b[0m                 started           1/1         1G       1G     accounts-optimistic-cassowary-xj.cfapps.pcf.cloud\n",
      "\u001b[36;1manimal-rescue-backend\u001b[0m    started           1/1         1G       1G     animal-rescue-backend.apps.internal\n",
      "\u001b[36;1manimal-rescue-frontend\u001b[0m   started           1/1         1G       1G     animal-rescue-frontend.apps.internal\n",
      "\u001b[36;1mportfolio\u001b[0m                started           1/1         1G       1G     portfolio-kind-badger-iy.cfapps.pcf.cloud\n",
      "\u001b[36;1mquotes\u001b[0m                   started           1/1         1G       1G     quotes-responsive-zebra-bv.cfapps.pcf.cloud\n",
      "\u001b[36;1mratelimiting\u001b[0m             started           1/1         128M     1G     ratelimiting.cfapps.pcf.cloud\n",
      "\u001b[36;1muser\u001b[0m                     started           1/1         1G       1G     user-turbulent-wolverine-my.cfapps.pcf.cloud\n",
      "\u001b[36;1mweb\u001b[0m                      started           1/1         1G       1G     web-relaxed-panther-hf.cfapps.pcf.cloud\n"
     ]
    }
   ],
   "source": [
    "#create a new service instance of the gateway\n",
    "cf create-service p.gateway standard my-gateway -c '{\"host\": \"my-gateway\"}'\n"
   ]
  },
  {
   "cell_type": "code",
   "execution_count": null,
   "metadata": {},
   "outputs": [],
   "source": [
    "#push our rate limiting app\n",
    "cf push -f ratelimiting.yml"
   ]
  },
  {
   "cell_type": "code",
   "execution_count": null,
   "metadata": {},
   "outputs": [],
   "source": [
    "#bind our app to the rate limiting service\n",
    "cf bind-service ratelimiting my-gateway -c '{\"routes\": [{\"path\": \"/limited/**\"}]}'"
   ]
  }
 ],
 "metadata": {
  "kernelspec": {
   "display_name": "Bash",
   "language": "bash",
   "name": "bash"
  },
  "language_info": {
   "codemirror_mode": "shell",
   "file_extension": ".sh",
   "mimetype": "text/x-sh",
   "name": "bash"
  }
 },
 "nbformat": 4,
 "nbformat_minor": 4
}

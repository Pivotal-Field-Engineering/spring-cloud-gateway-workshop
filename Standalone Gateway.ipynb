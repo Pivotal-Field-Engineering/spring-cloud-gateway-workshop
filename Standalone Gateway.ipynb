{
 "cells": [
  {
   "cell_type": "markdown",
   "metadata": {},
   "source": [
    "### Let's deploy an application that explores rate limiting"
   ]
  },
  {
   "cell_type": "code",
   "execution_count": null,
   "metadata": {},
   "outputs": [],
   "source": [
    "# get to the right directory\n",
    "cd ~/projects/spring-cloud-gateway-workshop/spring-boot-version\n",
    "pwd"
   ]
  },
  {
   "cell_type": "markdown",
   "metadata": {},
   "source": [
    "### Start the app up in IntelliJ to run on localhost:8080 - also make sure to have Redis running on localhost:6379"
   ]
  },
  {
   "cell_type": "markdown",
   "metadata": {},
   "source": [
    "### Example for adding a header to the response"
   ]
  },
  {
   "cell_type": "code",
   "execution_count": null,
   "metadata": {},
   "outputs": [],
   "source": [
    "#check headers\n",
    "curl --dump-header - http://localhost:8080/image/webp -o /dev/null"
   ]
  },
  {
   "cell_type": "code",
   "execution_count": null,
   "metadata": {},
   "outputs": [],
   "source": [
    "#check headers\n",
    "curl --dump-header - http://localhost:8080/kitchensink -o /dev/null"
   ]
  },
  {
   "cell_type": "markdown",
   "metadata": {},
   "source": [
    "### Build the gateway app"
   ]
  },
  {
   "cell_type": "code",
   "execution_count": null,
   "metadata": {},
   "outputs": [],
   "source": [
    "# build the app\n",
    "mvn -DskipTests clean install"
   ]
  },
  {
   "cell_type": "markdown",
   "metadata": {},
   "source": [
    "### Let's deploy the gateway"
   ]
  },
  {
   "cell_type": "code",
   "execution_count": null,
   "metadata": {},
   "outputs": [],
   "source": [
    "#see which apps are currently deployed\n",
    "cf apps"
   ]
  },
  {
   "cell_type": "code",
   "execution_count": null,
   "metadata": {},
   "outputs": [],
   "source": [
    "# push our standalone SB gateway\n",
    "cf push"
   ]
  },
  {
   "cell_type": "markdown",
   "metadata": {},
   "source": [
    "### Deploy ratelimit backend"
   ]
  },
  {
   "cell_type": "code",
   "execution_count": null,
   "metadata": {},
   "outputs": [],
   "source": [
    "cd ../ratelimiting\n",
    "cf push"
   ]
  },
  {
   "cell_type": "markdown",
   "metadata": {},
   "source": [
    "### Let's test out the TAS deployed gateway"
   ]
  },
  {
   "cell_type": "code",
   "execution_count": null,
   "metadata": {},
   "outputs": [],
   "source": [
    "#test out redis rate limiting\n",
    "# https://custom-gateway.cfapps.pcf.cloud/ratelimit/bucket\n",
    "for i in {1..20}; do sleep .1; curl --dump-header - https://custom-gateway.cfapps.pcf.cloud/ratelimit/bucket?user=1 ;done\n"
   ]
  },
  {
   "cell_type": "code",
   "execution_count": null,
   "metadata": {},
   "outputs": [],
   "source": [
    "#check headers\n",
    "curl --dump-header - https://custom-gateway.cfapps.pcf.cloud/image/webp -o /dev/null"
   ]
  },
  {
   "cell_type": "code",
   "execution_count": null,
   "metadata": {},
   "outputs": [],
   "source": [
    "#check headers - soooo many duplicates...need to figure out why\n",
    "curl --dump-header - https://custom-gateway.cfapps.pcf.cloud/kitchensink -o /dev/null"
   ]
  },
  {
   "cell_type": "code",
   "execution_count": null,
   "metadata": {},
   "outputs": [],
   "source": [
    "#check headers\n",
    "curl --dump-header - https://custom-gateway.cfapps.pcf.cloud/redirectme -o /dev/null"
   ]
  }
 ],
 "metadata": {
  "kernelspec": {
   "display_name": "Bash",
   "language": "bash",
   "name": "bash"
  },
  "language_info": {
   "codemirror_mode": "shell",
   "file_extension": ".sh",
   "mimetype": "text/x-sh",
   "name": "bash"
  }
 },
 "nbformat": 4,
 "nbformat_minor": 4
}
